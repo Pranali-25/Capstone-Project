{
  "nbformat": 4,
  "nbformat_minor": 0,
  "metadata": {
    "colab": {
      "provenance": [],
      "authorship_tag": "ABX9TyO5gDalzVuqn7a7X/VfjUPM",
      "include_colab_link": true
    },
    "kernelspec": {
      "name": "python3",
      "display_name": "Python 3"
    },
    "language_info": {
      "name": "python"
    }
  },
  "cells": [
    {
      "cell_type": "markdown",
      "metadata": {
        "id": "view-in-github",
        "colab_type": "text"
      },
      "source": [
        "<a href=\"https://colab.research.google.com/github/Pranali-25/Capstone-Project/blob/main/3_Recurrent_neural_network.ipynb\" target=\"_parent\"><img src=\"https://colab.research.google.com/assets/colab-badge.svg\" alt=\"Open In Colab\"/></a>"
      ]
    },
    {
      "cell_type": "markdown",
      "source": [
        "# **RECURRENT NEURAL NETWORK (RNNs)**\n",
        "\n",
        "Recurrent Neural Network(RNN) is a type of Neural Network where the output from the previous step is fed as input to the current step. In traditional neural networks, all the inputs and outputs are independent of each other. Still, in cases when it is required to predict the next word of a sentence, the previous words are required and hence there is a need to remember the previous words. Thus RNN came into existence, which solved this issue with the help of a Hidden Layer.\n",
        "\n",
        "The main and most important feature of RNN is its Hidden state, which remembers some information about a sequence. The state is also referred to as Memory State since it remembers the previous input to the network. It uses the same parameters for each input as it performs the same task on all the inputs or hidden layers to produce the output. This reduces the complexity of parameters, unlike other neural networks.\n"
      ],
      "metadata": {
        "id": "hAThfGrn7tpq"
      }
    },
    {
      "cell_type": "markdown",
      "source": [
        "# **1.Importing libraries**\n",
        "\n",
        "Firstly, We have to import the necessary libraries and prepare the MNIST dataset."
      ],
      "metadata": {
        "id": "lQFSHT5D8Jxs"
      }
    },
    {
      "cell_type": "code",
      "execution_count": null,
      "metadata": {
        "colab": {
          "base_uri": "https://localhost:8080/"
        },
        "id": "wx2ivx3x4RXr",
        "outputId": "476f9396-2ba5-4020-8a54-6581d01432f4"
      },
      "outputs": [
        {
          "output_type": "stream",
          "name": "stdout",
          "text": [
            "Downloading data from https://storage.googleapis.com/tensorflow/tf-keras-datasets/mnist.npz\n",
            "11490434/11490434 [==============================] - 0s 0us/step\n"
          ]
        }
      ],
      "source": [
        "import tensorflow as tf\n",
        "from tensorflow.keras.datasets import mnist\n",
        "from tensorflow.keras.utils import to_categorical\n",
        "import numpy as np\n",
        "import matplotlib.pyplot as plt\n",
        "\n",
        "# Load the MNIST dataset\n",
        "(x_train, y_train), (x_test, y_test) = mnist.load_data()\n",
        "\n",
        "# Normalize the input data\n",
        "x_train = x_train / 255.0\n",
        "x_test = x_test / 255.0\n",
        "\n",
        "# One-hot encode the labels\n",
        "y_train = to_categorical(y_train, 10)\n",
        "y_test = to_categorical(y_test, 10)\n"
      ]
    },
    {
      "cell_type": "markdown",
      "source": [
        "# **2.Defining the model**\n",
        "\n",
        "Define a simple RNN model using Keras."
      ],
      "metadata": {
        "id": "kzfzTJvpGC6q"
      }
    },
    {
      "cell_type": "code",
      "source": [
        "from tensorflow.keras.models import Sequential\n",
        "from tensorflow.keras.layers import SimpleRNN, Dense, Flatten\n",
        "\n",
        "model = Sequential([\n",
        "    SimpleRNN(128, input_shape=(28, 28), return_sequences=True),\n",
        "    SimpleRNN(128),\n",
        "    Dense(10, activation='softmax')\n",
        "])\n",
        "\n",
        "model.compile(optimizer='adam', loss='categorical_crossentropy', metrics=['accuracy'])\n",
        "model.summary()\n"
      ],
      "metadata": {
        "colab": {
          "base_uri": "https://localhost:8080/"
        },
        "id": "unUXw8Mi4k88",
        "outputId": "9d76193e-1c83-4eea-f665-e1ff7d64f4ed"
      },
      "execution_count": null,
      "outputs": [
        {
          "output_type": "stream",
          "name": "stdout",
          "text": [
            "Model: \"sequential\"\n",
            "_________________________________________________________________\n",
            " Layer (type)                Output Shape              Param #   \n",
            "=================================================================\n",
            " simple_rnn (SimpleRNN)      (None, 28, 128)           20096     \n",
            "                                                                 \n",
            " simple_rnn_1 (SimpleRNN)    (None, 128)               32896     \n",
            "                                                                 \n",
            " dense (Dense)               (None, 10)                1290      \n",
            "                                                                 \n",
            "=================================================================\n",
            "Total params: 54282 (212.04 KB)\n",
            "Trainable params: 54282 (212.04 KB)\n",
            "Non-trainable params: 0 (0.00 Byte)\n",
            "_________________________________________________________________\n"
          ]
        }
      ]
    },
    {
      "cell_type": "markdown",
      "source": [
        "# **3.Training the model**\n",
        "\n",
        "Train the RNN model."
      ],
      "metadata": {
        "id": "zM4P7evkGVVx"
      }
    },
    {
      "cell_type": "code",
      "source": [
        "model.fit(x_train, y_train, epochs=10, validation_split=0.2)\n"
      ],
      "metadata": {
        "colab": {
          "base_uri": "https://localhost:8080/"
        },
        "id": "ScQuP7Wc4t4W",
        "outputId": "e1706fdb-c2a9-4b49-cfcc-3db37a2c13eb"
      },
      "execution_count": null,
      "outputs": [
        {
          "output_type": "stream",
          "name": "stdout",
          "text": [
            "Epoch 1/10\n",
            "1500/1500 [==============================] - 41s 26ms/step - loss: 0.3376 - accuracy: 0.8964 - val_loss: 0.1892 - val_accuracy: 0.9449\n",
            "Epoch 2/10\n",
            "1500/1500 [==============================] - 37s 25ms/step - loss: 0.2003 - accuracy: 0.9420 - val_loss: 0.2747 - val_accuracy: 0.9180\n",
            "Epoch 3/10\n",
            "1500/1500 [==============================] - 36s 24ms/step - loss: 0.1784 - accuracy: 0.9476 - val_loss: 0.1597 - val_accuracy: 0.9571\n",
            "Epoch 4/10\n",
            "1500/1500 [==============================] - 34s 23ms/step - loss: 0.1533 - accuracy: 0.9553 - val_loss: 0.1543 - val_accuracy: 0.9571\n",
            "Epoch 5/10\n",
            "1500/1500 [==============================] - 38s 25ms/step - loss: 0.1512 - accuracy: 0.9562 - val_loss: 0.1307 - val_accuracy: 0.9625\n",
            "Epoch 6/10\n",
            "1500/1500 [==============================] - 37s 25ms/step - loss: 0.1622 - accuracy: 0.9533 - val_loss: 0.1998 - val_accuracy: 0.9442\n",
            "Epoch 7/10\n",
            "1500/1500 [==============================] - 38s 25ms/step - loss: 0.1591 - accuracy: 0.9528 - val_loss: 0.1637 - val_accuracy: 0.9538\n",
            "Epoch 8/10\n",
            "1500/1500 [==============================] - 35s 23ms/step - loss: 0.1530 - accuracy: 0.9560 - val_loss: 0.1340 - val_accuracy: 0.9608\n",
            "Epoch 9/10\n",
            "1500/1500 [==============================] - 35s 23ms/step - loss: 0.1519 - accuracy: 0.9558 - val_loss: 0.1644 - val_accuracy: 0.9542\n",
            "Epoch 10/10\n",
            "1500/1500 [==============================] - 36s 24ms/step - loss: 0.1489 - accuracy: 0.9567 - val_loss: 0.1496 - val_accuracy: 0.9579\n"
          ]
        },
        {
          "output_type": "execute_result",
          "data": {
            "text/plain": [
              "<keras.src.callbacks.History at 0x7c3694877520>"
            ]
          },
          "metadata": {},
          "execution_count": 3
        }
      ]
    },
    {
      "cell_type": "markdown",
      "source": [
        "# **4.Visualization**\n",
        "\n",
        "\n",
        "Visualize some predictions."
      ],
      "metadata": {
        "id": "KRKIKnZpGiUv"
      }
    },
    {
      "cell_type": "code",
      "source": [
        "def plot_images(images, labels, predictions=None):\n",
        "    n = len(images)\n",
        "    plt.figure(figsize=(20, 4))\n",
        "    for i in range(n):\n",
        "        plt.subplot(1, n, i + 1)\n",
        "        plt.imshow(images[i], cmap='gray')\n",
        "        title = f\"Label: {np.argmax(labels[i])}\"\n",
        "        if predictions is not None:\n",
        "            title += f\"\\nPrediction: {np.argmax(predictions[i])}\"\n",
        "        plt.title(title)\n",
        "        plt.axis('off')\n",
        "    plt.show()\n",
        "\n",
        "# Get some test images and labels\n",
        "num_images = 10\n",
        "test_images = x_test[:num_images]\n",
        "test_labels = y_test[:num_images]\n",
        "\n",
        "# Predict the labels for the test images\n",
        "predictions = model.predict(test_images)\n",
        "\n",
        "# Plot the images with their true labels and predictions\n",
        "plot_images(test_images, test_labels, predictions)\n"
      ],
      "metadata": {
        "colab": {
          "base_uri": "https://localhost:8080/",
          "height": 248
        },
        "id": "RTqsOWFp6OmB",
        "outputId": "cf67d63d-b9bd-47f1-e25f-4d07fb05f11b"
      },
      "execution_count": null,
      "outputs": [
        {
          "output_type": "stream",
          "name": "stdout",
          "text": [
            "1/1 [==============================] - 0s 326ms/step\n"
          ]
        },
        {
          "output_type": "display_data",
          "data": {
            "text/plain": [
              "<Figure size 2000x400 with 10 Axes>"
            ],
            "image/png": "[encoded data removed]"
          },
          "metadata": {}
        }
      ]
    },
    {
      "cell_type": "markdown",
      "source": [
        "# **CONCLUSION**\n",
        "\n",
        "The code demonstrates how to build, train, and evaluate a Recurrent Neural Network (RNN) using TensorFlow and Keras to recognize handwritten digits from the MNIST dataset.  Firstly, we import the necessary libraries. Then, we prepare the MNIST dataset. Next, we define the RNN model.Later we train the model using the training data and finally visualize its performance on new data. This step-by-step approach provides a clear and basic understanding of RNNs."
      ],
      "metadata": {
        "id": "pRXV2u9fICso"
      }
    }
  ]
}