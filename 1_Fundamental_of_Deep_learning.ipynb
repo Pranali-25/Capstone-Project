{
  "nbformat": 4,
  "nbformat_minor": 0,
  "metadata": {
    "colab": {
      "provenance": [],
      "authorship_tag": "ABX9TyOVQjLbS6pKpghNcoDvg34a",
      "include_colab_link": true
    },
    "kernelspec": {
      "name": "python3",
      "display_name": "Python 3"
    },
    "language_info": {
      "name": "python"
    }
  },
  "cells": [
    {
      "cell_type": "markdown",
      "metadata": {
        "id": "view-in-github",
        "colab_type": "text"
      },
      "source": [
        "<a href=\"https://colab.research.google.com/github/Pranali-25/Capstone-Project/blob/main/1_Fundamental_of_Deep_learning.ipynb\" target=\"_parent\"><img src=\"https://colab.research.google.com/assets/colab-badge.svg\" alt=\"Open In Colab\"/></a>"
      ]
    },
    {
      "cell_type": "markdown",
      "source": [
        "# **FUNDAMENTALS OF DEEP LEARNING**\n",
        "**Introduction**\n",
        "\n",
        "Deep Learning is a subset of Machine Learning that focuses on neural networks with many layers, known as deep neural networks. These layers enable models to learn representations of data with multiple levels of abstraction, making them particularly powerful for tasks such as image and speech recognition, natural language processing, and more.\n",
        "\n",
        "By working through the following code, we will gain a deeper understanding of deep learning principles and practices. This code will guide us through the key concepts, including neural network architecture,loading the dataset,preprocessing the data,training, and evaluation."
      ],
      "metadata": {
        "id": "oJsFc1Ge1bCy"
      }
    },
    {
      "cell_type": "markdown",
      "source": [
        "# **1.Importing the Necessary Libraries**\n",
        "\n",
        "\n",
        "Now we will import the required liabraries."
      ],
      "metadata": {
        "id": "OwhNxzcL0zK4"
      }
    },
    {
      "cell_type": "code",
      "execution_count": null,
      "metadata": {
        "id": "eM91ymWZwy0n"
      },
      "outputs": [],
      "source": [
        "import torch\n",
        "import torch.nn as nn\n",
        "import torch.optim as optim\n",
        "from torchvision import datasets, transforms\n",
        "import matplotlib.pyplot as plt"
      ]
    },
    {
      "cell_type": "markdown",
      "source": [
        "# **2.Defining the Deep Learning Model**\n",
        "\n",
        "Now, we'll define a simple neural network with three fully connected layers. The forward() method defines the forward pass of the network."
      ],
      "metadata": {
        "id": "DrXlP_BV0mm7"
      }
    },
    {
      "cell_type": "code",
      "source": [
        "# Define the neural network\n",
        "class Net(nn.Module):\n",
        "    def __init__(self):\n",
        "        super(Net, self).__init__()\n",
        "        self.fc1 = nn.Linear(32 * 32 * 3, 512)\n",
        "        self.fc2 = nn.Linear(512, 128)\n",
        "        self.fc3 = nn.Linear(128, 10)\n",
        "\n",
        "    def forward(self, x):\n",
        "        x = x.view(-1, 32 * 32 * 3)\n",
        "        x = torch.relu(self.fc1(x))\n",
        "        x = torch.relu(self.fc2(x))\n",
        "        x = self.fc3(x)\n",
        "        return x"
      ],
      "metadata": {
        "id": "37YMMucaxCru"
      },
      "execution_count": null,
      "outputs": []
    },
    {
      "cell_type": "markdown",
      "source": [
        "# **3.Loading the dataset**\n",
        "\n",
        "Load the CIFAR-10 dataset."
      ],
      "metadata": {
        "id": "wn2ODbja0FTT"
      }
    },
    {
      "cell_type": "code",
      "source": [
        "# Load the CIFAR-10 dataset\n",
        "transform = transforms.Compose([transforms.ToTensor(), transforms.Normalize((0.5, 0.5, 0.5), (0.5, 0.5, 0.5))])\n",
        "trainset = datasets.CIFAR10(root='./data', train=True, download=True, transform=transform)\n",
        "trainloader = torch.utils.data.DataLoader(trainset, batch_size=64, shuffle=True, num_workers=2)\n",
        "\n",
        "testset = datasets.CIFAR10(root='./data', train=False, download=True, transform=transform)\n",
        "testloader = torch.utils.data.DataLoader(testset, batch_size=64, shuffle=False, num_workers=2)"
      ],
      "metadata": {
        "colab": {
          "base_uri": "https://localhost:8080/"
        },
        "id": "XmSQlHtRxHKU",
        "outputId": "be8ac075-621e-464a-9029-ca03b9c9fda5"
      },
      "execution_count": null,
      "outputs": [
        {
          "output_type": "stream",
          "name": "stdout",
          "text": [
            "Downloading https://www.cs.toronto.edu/~kriz/cifar-10-python.tar.gz to ./data/cifar-10-python.tar.gz\n"
          ]
        },
        {
          "output_type": "stream",
          "name": "stderr",
          "text": [
            "100%|██████████| 170498071/170498071 [00:03<00:00, 56495948.24it/s]\n"
          ]
        },
        {
          "output_type": "stream",
          "name": "stdout",
          "text": [
            "Extracting ./data/cifar-10-python.tar.gz to ./data\n",
            "Files already downloaded and verified\n"
          ]
        }
      ]
    },
    {
      "cell_type": "markdown",
      "source": [
        "# **4.Preprocessing the data**\n",
        "\n",
        "Here we are using the nn.CrossEntropyLoss as the loss function and optim.SGD as the optimizer for our CIFAR-10 Dataset."
      ],
      "metadata": {
        "id": "Xh3Eo578zhy5"
      }
    },
    {
      "cell_type": "code",
      "source": [
        "# Define the loss function and optimizer\n",
        "device = torch.device(\"cuda:0\" if torch.cuda.is_available() else \"cpu\")\n",
        "net = Net().to(device)\n",
        "criterion = nn.CrossEntropyLoss()\n",
        "optimizer = optim.SGD(net.parameters(), lr=0.001, momentum=0.9)\n",
        "\n",
        "def visualize_samples(loader, num_samples=5):\n",
        "    dataiter = iter(loader)\n",
        "    images, labels = next(dataiter)\n",
        "\n",
        "    images = images[:num_samples]\n",
        "    labels = labels[:num_samples]\n",
        "\n",
        "    fig, axes = plt.subplots(1, num_samples, figsize=(15, 3))\n",
        "    for i in range(num_samples):\n",
        "        image = images[i].permute(1, 2, 0).numpy()\n",
        "        image = (image - image.min()) / (image.max() - image.min())  # Normalize to [0, 1] for display\n",
        "        axes[i].imshow(image)\n",
        "        axes[i].set_title(f'Label: {labels[i].item()}')\n",
        "        axes[i].axis('off')\n",
        "\n",
        "    plt.show()\n",
        "\n",
        "# Visualize some samples from the train loader\n",
        "visualize_samples(trainloader, num_samples=5)"
      ],
      "metadata": {
        "colab": {
          "base_uri": "https://localhost:8080/",
          "height": 259
        },
        "id": "G0dkGkUVxMvL",
        "outputId": "be12e715-f5ae-4589-bac4-5c752dc795cf"
      },
      "execution_count": null,
      "outputs": [
        {
          "output_type": "display_data",
          "data": {
            "text/plain": [
              "<Figure size 1500x300 with 5 Axes>"
            ],
            "image/png": "[encoded data removed]"
          },
          "metadata": {}
        }
      ]
    },
    {
      "cell_type": "markdown",
      "source": [
        "#  **5.Training the Model**\n",
        "\n",
        "Train the model using the training data.\n"
      ],
      "metadata": {
        "id": "QaV-RXiazIfh"
      }
    },
    {
      "cell_type": "code",
      "source": [
        "# Train the model\n",
        "for epoch in range(10):\n",
        "    running_loss = 0.0\n",
        "    for i, data in enumerate(trainloader, 0):\n",
        "        inputs, labels = data[0].to(device), data[1].to(device)\n",
        "\n",
        "        optimizer.zero_grad()\n",
        "\n",
        "        outputs = net(inputs)\n",
        "        loss = criterion(outputs, labels)\n",
        "        loss.backward()\n",
        "        optimizer.step()\n",
        "\n",
        "        running_loss += loss.item()\n",
        "        if i % 100 == 99:\n",
        "            print(f'[{epoch + 1}, {i + 1:5d}] loss: {running_loss / 100:.3f}')\n",
        "            running_loss = 0.0\n",
        "\n",
        "print('Finished Training')"
      ],
      "metadata": {
        "colab": {
          "base_uri": "https://localhost:8080/"
        },
        "id": "ofl4kktDxeAH",
        "outputId": "5b2e53db-e5f3-45b1-8661-e39f053b07d4"
      },
      "execution_count": null,
      "outputs": [
        {
          "output_type": "stream",
          "name": "stdout",
          "text": [
            "[1,   100] loss: 2.283\n",
            "[1,   200] loss: 2.216\n",
            "[1,   300] loss: 2.138\n",
            "[1,   400] loss: 2.053\n",
            "[1,   500] loss: 1.990\n",
            "[1,   600] loss: 1.952\n",
            "[1,   700] loss: 1.899\n",
            "[2,   100] loss: 1.841\n",
            "[2,   200] loss: 1.807\n",
            "[2,   300] loss: 1.784\n",
            "[2,   400] loss: 1.762\n",
            "[2,   500] loss: 1.733\n",
            "[2,   600] loss: 1.745\n",
            "[2,   700] loss: 1.692\n",
            "[3,   100] loss: 1.685\n",
            "[3,   200] loss: 1.669\n",
            "[3,   300] loss: 1.657\n",
            "[3,   400] loss: 1.652\n",
            "[3,   500] loss: 1.628\n",
            "[3,   600] loss: 1.612\n",
            "[3,   700] loss: 1.625\n",
            "[4,   100] loss: 1.602\n",
            "[4,   200] loss: 1.586\n",
            "[4,   300] loss: 1.597\n",
            "[4,   400] loss: 1.559\n",
            "[4,   500] loss: 1.548\n",
            "[4,   600] loss: 1.580\n",
            "[4,   700] loss: 1.532\n",
            "[5,   100] loss: 1.516\n",
            "[5,   200] loss: 1.508\n",
            "[5,   300] loss: 1.522\n",
            "[5,   400] loss: 1.531\n",
            "[5,   500] loss: 1.496\n",
            "[5,   600] loss: 1.490\n",
            "[5,   700] loss: 1.499\n",
            "[6,   100] loss: 1.470\n",
            "[6,   200] loss: 1.443\n",
            "[6,   300] loss: 1.466\n",
            "[6,   400] loss: 1.433\n",
            "[6,   500] loss: 1.443\n",
            "[6,   600] loss: 1.440\n",
            "[6,   700] loss: 1.460\n",
            "[7,   100] loss: 1.394\n",
            "[7,   200] loss: 1.388\n",
            "[7,   300] loss: 1.403\n",
            "[7,   400] loss: 1.413\n",
            "[7,   500] loss: 1.412\n",
            "[7,   600] loss: 1.404\n",
            "[7,   700] loss: 1.407\n",
            "[8,   100] loss: 1.342\n",
            "[8,   200] loss: 1.371\n",
            "[8,   300] loss: 1.367\n",
            "[8,   400] loss: 1.364\n",
            "[8,   500] loss: 1.352\n",
            "[8,   600] loss: 1.331\n",
            "[8,   700] loss: 1.375\n",
            "[9,   100] loss: 1.327\n",
            "[9,   200] loss: 1.295\n",
            "[9,   300] loss: 1.315\n",
            "[9,   400] loss: 1.302\n",
            "[9,   500] loss: 1.306\n",
            "[9,   600] loss: 1.328\n",
            "[9,   700] loss: 1.317\n",
            "[10,   100] loss: 1.270\n",
            "[10,   200] loss: 1.293\n",
            "[10,   300] loss: 1.274\n",
            "[10,   400] loss: 1.259\n",
            "[10,   500] loss: 1.280\n",
            "[10,   600] loss: 1.274\n",
            "[10,   700] loss: 1.256\n",
            "Finished Training\n"
          ]
        }
      ]
    },
    {
      "cell_type": "markdown",
      "source": [
        "# **6.Evaluating  the Model**\n",
        "\n",
        "Evaluate the model on the test data to check its performance."
      ],
      "metadata": {
        "id": "EW-TgKSHyzk8"
      }
    },
    {
      "cell_type": "code",
      "source": [
        "# Evaluate the model\n",
        "correct = 0\n",
        "total = 0\n",
        "with torch.no_grad():\n",
        "    for data in testloader:\n",
        "        images, labels = data[0].to(device), data[1].to(device)\n",
        "        outputs = net(images)\n",
        "        _, predicted = torch.max(outputs.data, 1)\n",
        "        total += labels.size(0)\n",
        "        correct += (predicted == labels).sum().item()\n",
        "\n",
        "print(f'Accuracy of the network on the 10000 test images: {100 * correct // total} %')"
      ],
      "metadata": {
        "colab": {
          "base_uri": "https://localhost:8080/"
        },
        "id": "T2YFSc8IydkW",
        "outputId": "41432894-712a-482e-bdf2-23fae96aeb4e"
      },
      "execution_count": null,
      "outputs": [
        {
          "output_type": "stream",
          "name": "stdout",
          "text": [
            "Accuracy of the network on the 10000 test images: 52 %\n"
          ]
        }
      ]
    },
    {
      "cell_type": "markdown",
      "source": [
        "# **CONCLUSION**\n",
        "\n",
        "The code implements and trains a simple feedforward neural network on the CIFAR-10 dataset using PyTorch. The network consists of three fully connected layers with ReLU activations. After setting up the CIFAR-10 dataset and defining the data loaders, the code visualizes a few sample images from the training set. It then trains the model for 10 epochs using stochastic gradient descent with momentum. After training, the model is evaluated on the test set, achieving an accuracy of approximately 100 * correct // total percent. This demonstrates that the network has learned to classify CIFAR-10 images with reasonable accuracy, though more sophisticated architectures and techniques would likely improve performance further."
      ],
      "metadata": {
        "id": "fDSyT7l3A3pE"
      }
    }
  ]
}